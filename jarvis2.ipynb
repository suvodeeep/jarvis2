{
 "cells": [
  {
   "cell_type": "code",
   "execution_count": null,
   "metadata": {},
   "outputs": [],
   "source": []
  },
  {
   "cell_type": "code",
   "execution_count": 1,
   "metadata": {},
   "outputs": [],
   "source": [
    "import speech_recognition as sr\n",
    "import pyttsx3\n",
    "import pywhatkit\n",
    "import datetime\n",
    "import wikipedia\n",
    "import pyjokes"
   ]
  },
  {
   "cell_type": "code",
   "execution_count": null,
   "metadata": {},
   "outputs": [],
   "source": [
    "listener=sr.Recognizer()\n",
    "engine=pyttsx3.init()\n",
    "def talk(text):\n",
    "    engine.say(text)\n",
    "    \n",
    "    engine.runAndWait()\n",
    "def take_command():\n",
    "    try:\n",
    "        with sr.Microphone() as source:\n",
    "            print('listening...')\n",
    "            voice= listener.listen(source)\n",
    "            command=listener.recognize_google(voice)\n",
    "            command=command.lower()\n",
    "            if 'jarvis' in command:\n",
    "                command=command.replace('jarvis','')\n",
    "                print(command)\n",
    "    except:\n",
    "        pass\n",
    "    return command\n",
    "    \n",
    "def run_jarvis():\n",
    "    command=take_command()\n",
    "    print(command)\n",
    "    if 'play'in command:\n",
    "        song=command.replace('play','')\n",
    "        \n",
    "        talk('playing'+song)\n",
    "        pywhatkit.playonyt(song)\n",
    "    elif 'time' in command:\n",
    "        time=datetime.datetime.now().strftime('%H:%M %p')\n",
    "        print (time)\n",
    "        talk(\"the current time is\"+time)\n",
    "    elif 'who is' in command:\n",
    "        person=command.replace('who is','')\n",
    "        info=wikipedia.summary(person,2)\n",
    "        print(info)\n",
    "        talk(info)\n",
    "    elif'my suit'in command:\n",
    "        talk('youre not iron man')\n",
    "    \n",
    "    elif'my name' in command:\n",
    "        talk('Suvadip Mondal')\n",
    "        print('Suvadip Mondal')\n",
    "    \n",
    "    elif'your name' in command:\n",
    "        talk('my name is jarvis  im the virtual assistant of iron man')\n",
    "        \n",
    "    elif'want to drink' in command:\n",
    "        talk('thanks  but i dont drink')\n",
    "    \n",
    "    elif'joke'in command:\n",
    "        talk(pyjokes.get_joke())\n",
    "        \n",
    "    elif'what is' in command:\n",
    "        thing=command.replace('what is','')\n",
    "        info=wikipedia.summary(thing,2)\n",
    "        print(info)\n",
    "        talk(info)\n",
    "    \n",
    "    else:\n",
    "        talk('i didnt get that  please say the command again')\n",
    "\n",
    "        \n",
    "while True :\n",
    "    run_jarvis()    \n",
    "    \n",
    "    "
   ]
  },
  {
   "cell_type": "code",
   "execution_count": null,
   "metadata": {},
   "outputs": [],
   "source": []
  },
  {
   "cell_type": "code",
   "execution_count": null,
   "metadata": {},
   "outputs": [],
   "source": []
  },
  {
   "cell_type": "code",
   "execution_count": null,
   "metadata": {},
   "outputs": [],
   "source": []
  },
  {
   "cell_type": "code",
   "execution_count": null,
   "metadata": {},
   "outputs": [],
   "source": []
  },
  {
   "cell_type": "code",
   "execution_count": null,
   "metadata": {},
   "outputs": [],
   "source": []
  },
  {
   "cell_type": "code",
   "execution_count": null,
   "metadata": {},
   "outputs": [],
   "source": []
  },
  {
   "cell_type": "code",
   "execution_count": null,
   "metadata": {},
   "outputs": [],
   "source": []
  },
  {
   "cell_type": "code",
   "execution_count": null,
   "metadata": {},
   "outputs": [],
   "source": []
  },
  {
   "cell_type": "code",
   "execution_count": null,
   "metadata": {},
   "outputs": [],
   "source": []
  },
  {
   "cell_type": "code",
   "execution_count": null,
   "metadata": {},
   "outputs": [],
   "source": []
  },
  {
   "cell_type": "code",
   "execution_count": null,
   "metadata": {},
   "outputs": [],
   "source": []
  },
  {
   "cell_type": "code",
   "execution_count": null,
   "metadata": {},
   "outputs": [],
   "source": []
  },
  {
   "cell_type": "code",
   "execution_count": null,
   "metadata": {},
   "outputs": [],
   "source": []
  }
 ],
 "metadata": {
  "kernelspec": {
   "display_name": "Python 3",
   "language": "python",
   "name": "python3"
  },
  "language_info": {
   "codemirror_mode": {
    "name": "ipython",
    "version": 3
   },
   "file_extension": ".py",
   "mimetype": "text/x-python",
   "name": "python",
   "nbconvert_exporter": "python",
   "pygments_lexer": "ipython3",
   "version": "3.7.3"
  }
 },
 "nbformat": 4,
 "nbformat_minor": 2
}
